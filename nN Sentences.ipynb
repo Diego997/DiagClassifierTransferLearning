{
 "cells": [
  {
   "cell_type": "code",
   "execution_count": 1,
   "metadata": {
    "collapsed": true,
    "pycharm": {
     "name": "#%%\n"
    }
   },
   "outputs": [],
   "source": [
    "import cv2\n",
    "from glob import glob\n",
    "import numpy as np\n",
    "from PIL import Image, ImageOps\n",
    "\n",
    "import tensorflow as tf\n",
    "import PIL.ImageOps\n",
    "\n",
    "from tensorflow.keras import backend as K\n",
    "from tensorflow.keras.models import load_model\n",
    "from tensorflow.keras import Sequential, Input, Model\n",
    "from tensorflow.keras.layers import Conv2D, MaxPooling2D, Add\n",
    "from tensorflow.keras.layers import Activation, Dense, Flatten, Dropout\n",
    "from tensorflow.keras.callbacks import ModelCheckpoint"
   ]
  },
  {
   "cell_type": "code",
   "execution_count": 2,
   "outputs": [
    {
     "data": {
      "text/plain": "{'a01-020x': '010',\n 'a01-026': '009',\n 'a01-026u': '000',\n 'a01-026x': '008',\n 'a01-030': '005',\n 'a01-030u': '000',\n 'a01-030x': '010',\n 'a01-038': '007',\n 'a01-038x': '011',\n 'a01-043': '012',\n 'a01-043u': '000',\n 'a01-043x': '011',\n 'a01-049': '012',\n 'a01-049u': '000',\n 'a01-049x': '000',\n 'a01-053': '013',\n 'a01-053u': '000',\n 'a01-053x': '014',\n 'a01-058': '013',\n 'a01-058u': '000',\n 'a01-058x': '014',\n 'a01-063': '013',\n 'a01-063u': '000',\n 'a01-063x': '015',\n 'a01-068u': '000',\n 'a01-072u': '000',\n 'a01-072x': '001',\n 'a01-077': '016',\n 'a01-077u': '000',\n 'a01-082u': '000',\n 'a01-087': '017',\n 'a01-087u': '000',\n 'a01-091': '016',\n 'a01-091u': '000',\n 'a01-096u': '000',\n 'a01-102': '016',\n 'a01-102u': '000',\n 'a01-107': '018',\n 'a01-107u': '000',\n 'a01-113': '018',\n 'a01-113u': '000',\n 'a01-117': '019',\n 'a01-117u': '000',\n 'a01-122': '019',\n 'a01-122u': '000',\n 'a01-128': '019',\n 'a01-128u': '000',\n 'a01-132': '020',\n 'a01-132u': '000',\n 'a01-132x': '000',\n 'a02-000': '021',\n 'a02-004': '022',\n 'a02-008': '023',\n 'a02-012': '024',\n 'a02-017': '025',\n 'a02-020': '025',\n 'a02-024': '025',\n 'a02-027': '025',\n 'a02-032': '025',\n 'a02-037': '026',\n 'a02-042': '026',\n 'a02-046': '027',\n 'a02-050': '028',\n 'a02-053': '029',\n 'a02-057': '030',\n 'a02-062': '031',\n 'a02-067': '032',\n 'a02-072': '033',\n 'a02-078': '034',\n 'a02-082': '035',\n 'a02-086': '036',\n 'a02-090': '026',\n 'a02-093': '026',\n 'a02-098': '026',\n 'a02-102': '037',\n 'a02-106': '037',\n 'a02-111': '037',\n 'a02-116': '038',\n 'a02-120': '039',\n 'a02-124': '037',\n 'a03-006': '040',\n 'a03-009': '041',\n 'a03-011': '042',\n 'a03-014': '043',\n 'a03-017': '044',\n 'a03-020': '045',\n 'a03-023': '046',\n 'a03-027': '047',\n 'a03-030': '048',\n 'a03-034': '049',\n 'a03-037': '050',\n 'a03-040': '051',\n 'a03-043': '052',\n 'a03-047': '037',\n 'a03-050': '000',\n 'a03-054': '053',\n 'a03-059': '054',\n 'a03-063': '055',\n 'a03-066': '056',\n 'a03-071': '000',\n 'a03-073': '000',\n 'a03-080': '000',\n 'a03-089': '000',\n 'a04-000': '058',\n 'a04-003': '058',\n 'a04-006': '058',\n 'a04-010': '058',\n 'a04-015': '059',\n 'a04-019': '059',\n 'a04-023': '059',\n 'a04-027': '059',\n 'a04-031': '060',\n 'a04-035': '060',\n 'a04-039': '060',\n 'a04-043': '060',\n 'a04-047': '061',\n 'a04-050': '061',\n 'a04-054': '061',\n 'a04-059': '061',\n 'a04-066': '062',\n 'a04-069': '062',\n 'a04-072': '062',\n 'a04-081': '063',\n 'a04-085': '063',\n 'a04-089': '063',\n 'a04-092': '064',\n 'a04-096': '064',\n 'a04-099': '064',\n 'a04-103': '064',\n 'a05-000': '000',\n 'a05-004': '065',\n 'a05-009': '065',\n 'a05-013': '000',\n 'a05-017': '000',\n 'a05-022': '000',\n 'a05-025': '000',\n 'a05-029': '000',\n 'a05-039': '000',\n 'a05-044': '000',\n 'a05-048': '000',\n 'a05-053': '000',\n 'a05-058': '000',\n 'a05-062': '000',\n 'a05-069': '000',\n 'a05-073': '000',\n 'a05-080': '000',\n 'a05-084': '000',\n 'a05-089': '000',\n 'a05-094': '000',\n 'a05-099': '000',\n 'a05-104': '000',\n 'a05-108': '000',\n 'a05-113': '000',\n 'a05-116': '000',\n 'a05-121': '000',\n 'a05-125': '000',\n 'a06-000': '066',\n 'a06-004': '066',\n 'a06-008': '067',\n 'a06-014': '068',\n 'a06-020': '069',\n 'a06-025': '070',\n 'a06-036': '071',\n 'a06-039': '072',\n 'a06-044': '073',\n 'a06-051': '074',\n 'a06-057': '075',\n 'a06-064': '076',\n 'a06-070': '077',\n 'a06-075': '078',\n 'a06-090': '079',\n 'a06-095': '080',\n 'a06-100': '081',\n 'a06-110': '082',\n 'a06-114': '083',\n 'a06-119': '084',\n 'a06-124': '085',\n 'a06-128': '084',\n 'a06-134': '085',\n 'a06-141': '085',\n 'a06-147': '085',\n 'a06-152': '086',\n 'a06-157': '085',\n 'b01-000': '087',\n 'b01-004': '087',\n 'b01-009': '087',\n 'b01-014': '088',\n 'b01-018': '088',\n 'b01-023': '088',\n 'b01-027': '089',\n 'b01-033': '089',\n 'b01-038': '089',\n 'b01-044': '090',\n 'b01-049': '090',\n 'b01-053': '090',\n 'b01-057': '017',\n 'b01-062': '017',\n 'b01-073': '091',\n 'b01-079': '091',\n 'b01-084': '092',\n 'b01-089': '092',\n 'b01-094': '092',\n 'b01-113': '093',\n 'b01-118': '093',\n 'b01-122': '093',\n 'b01-127': '094',\n 'b01-132': '094',\n 'b01-136': '094',\n 'b02-013': '095',\n 'b02-035': '095',\n 'b02-045': '096',\n 'b02-097': '097',\n 'b02-102': '098',\n 'b02-105': '099',\n 'b03-025': '100',\n 'b03-087': '102',\n 'b03-092': '102',\n 'b03-098': '103',\n 'b03-104': '104',\n 'b03-109': '105',\n 'b03-114': '106',\n 'b04-000': '107',\n 'b04-004': '107',\n 'b04-010': '107',\n 'b04-020': '107',\n 'b04-026': '108',\n 'b04-034': '108',\n 'b04-040': '108',\n 'b04-047': '108',\n 'b04-054': '109',\n 'b04-060': '109',\n 'b04-066': '109',\n 'b04-075': '109',\n 'b04-081': '110',\n 'b04-089': '110',\n 'b04-096': '110',\n 'b04-103': '110',\n 'b04-107': '111',\n 'b04-116': '111',\n 'b04-121': '111',\n 'b04-128': '111',\n 'b04-134': '112',\n 'b04-140': '112',\n 'b04-147': '112',\n 'b04-154': '112',\n 'b04-162': '113',\n 'b04-169': '113',\n 'b04-175': '113',\n 'b04-181': '113',\n 'b04-187': '114',\n 'b04-195': '114',\n 'b04-202': '114',\n 'b04-208': '114',\n 'b05-017': '115',\n 'b05-032': '116',\n 'b05-038': '117',\n 'b05-042': '117',\n 'b05-045': '117',\n 'b05-050': '117',\n 'b05-055': '118',\n 'b05-058': '118',\n 'b05-062': '118',\n 'b05-067': '118',\n 'b05-071': '118',\n 'b05-074': '119',\n 'b05-079': '120',\n 'b05-083': '121',\n 'b05-088': '122',\n 'b05-098': '121',\n 'b06-000': '123',\n 'b06-004': '124',\n 'b06-008': '125',\n 'b06-012': '126',\n 'b06-015': '127',\n 'b06-019': '128',\n 'b06-023': '123',\n 'b06-027': '129',\n 'b06-032': '130',\n 'b06-036': '126',\n 'b06-042': '131',\n 'b06-045': '132',\n 'b06-049': '124',\n 'b06-053': '127',\n 'b06-056': '125',\n 'b06-059': '130',\n 'b06-064': '133',\n 'b06-068': '131',\n 'b06-071': '128',\n 'b06-075': '124',\n 'b06-079': '130',\n 'b06-082': '132',\n 'b06-087': '134',\n 'b06-090': '134',\n 'b06-093': '125',\n 'b06-097': '123',\n 'b06-100': '133',\n 'b06-110': '126',\n 'c01-009': '135',\n 'c01-014': '135',\n 'c01-066': '136',\n 'c02-000': '137',\n 'c02-003': '138',\n 'c02-007': '139',\n 'c02-012': '140',\n 'c02-017': '139',\n 'c02-022': '140',\n 'c02-026': '141',\n 'c02-030': '142',\n 'c02-035': '143',\n 'c02-049': '144',\n 'c02-056': '145',\n 'c02-059': '146',\n 'c02-078': '147',\n 'c02-082': '148',\n 'c02-089': '149',\n 'c03-000a': '150',\n 'c03-000b': '151',\n 'c03-000c': '152',\n 'c03-000d': '153',\n 'c03-000e': '154',\n 'c03-000f': '155',\n 'c03-003a': '150',\n 'c03-003b': '151',\n 'c03-007': '156',\n 'c03-003c': '152',\n 'c03-003d': '153',\n 'c03-003e': '154',\n 'c03-003f': '155',\n 'c03-007a': '150',\n 'c03-007b': '151',\n 'c03-007c': '152',\n 'c03-007d': '153',\n 'c03-007e': '154',\n 'c03-007f': '155',\n 'c03-016a': '150',\n 'c03-016b': '151',\n 'c03-016c': '152',\n 'c03-016d': '153',\n 'c03-016e': '154',\n 'c03-021a': '150',\n 'c03-021b': '151',\n 'c03-021c': '152',\n 'c03-021d': '153',\n 'c03-021e': '154',\n 'c03-021f': '155',\n 'c03-081a': '150',\n 'c03-081b': '151',\n 'c03-081c': '152',\n 'c03-081d': '153',\n 'c03-081e': '154',\n 'c03-081f': '155',\n 'c03-084a': '150',\n 'c03-084b': '151',\n 'c03-084c': '152',\n 'c03-084d': '153',\n 'c03-084e': '154',\n 'c03-084f': '155',\n 'c03-087a': '150',\n 'c03-087b': '151',\n 'c03-087c': '152',\n 'c03-087d': '153',\n 'c03-087e': '154',\n 'c03-087f': '155',\n 'c03-094a': '150',\n 'c03-094b': '151',\n 'c03-094c': '152',\n 'c03-094d': '153',\n 'c03-094e': '154',\n 'c03-094f': '155',\n 'c03-096a': '150',\n 'c03-096b': '151',\n 'c03-096c': '152',\n 'c03-096d': '153',\n 'c03-096e': '154',\n 'c03-096f': '155',\n 'c04-000': '157',\n 'c04-004': '157',\n 'c04-008': '158',\n 'c04-013': '158',\n 'c04-017': '159',\n 'c04-023': '160',\n 'c04-028': '160',\n 'c04-035': '159',\n 'c04-039': '161',\n 'c04-044': '161',\n 'c04-050': '162',\n 'c04-056': '162',\n 'c04-061': '163',\n 'c04-066': '163',\n 'c04-075': '164',\n 'c04-080': '165',\n 'c04-089': '166',\n 'c04-098': '166',\n 'c04-105': '167',\n 'c04-110': '168',\n 'c04-116': '168',\n 'c04-122': '164',\n 'c04-128': '165',\n 'c04-134': '169',\n 'c04-139': '169',\n 'c04-144': '170',\n 'c04-150': '170',\n 'c04-156': '171',\n 'c04-160': '171',\n 'c04-165': '172',\n 'c04-170': '172',\n 'c06-000': '130',\n 'c06-005': '125',\n 'c06-011': '173',\n 'c06-014': '129',\n 'c06-020': '125',\n 'c06-027': '128',\n 'c06-031': '130',\n 'c06-039': '123',\n 'c06-043': '133',\n 'c06-047': '132',\n 'c06-052': '126',\n 'c06-058': '131',\n 'c06-076': '128',\n 'c06-080': '133',\n 'c06-083': '174',\n 'c06-087': '126',\n 'c06-091': '132',\n 'c06-095': '131',\n 'c06-100': '123',\n 'c06-103': '129',\n 'c06-106': '127',\n 'c06-111': '124',\n 'c06-116': '133',\n 'c06-128': '128',\n 'c06-138': '129',\n 'd01-016': '175',\n 'd01-019': '175',\n 'd01-024': '176',\n 'd01-049': '177',\n 'd01-052': '177',\n 'd01-056': '178',\n 'd01-060': '178',\n 'd01-080': '179',\n 'd01-085': '179',\n 'd01-098': '180',\n 'd01-104': '180',\n 'd01-118': '181',\n 'd01-123': '181',\n 'd03-112': '182',\n 'd03-117': '183',\n 'd04-005': '184',\n 'd04-008': '184',\n 'd04-012': '185',\n 'd04-016': '185',\n 'd04-021': '186',\n 'd04-028': '186',\n 'd04-032': '187',\n 'd04-037': '187',\n 'd04-047': '188',\n 'd04-050': '189',\n 'd04-053': '188',\n 'd04-058': '190',\n 'd04-062': '190',\n 'd04-066': '191',\n 'd04-071': '192',\n 'd04-075': '192',\n 'd04-081': '193',\n 'd04-086': '194',\n 'd04-089': '194',\n 'd04-096': '195',\n 'd04-101': '195',\n 'd04-111': '196',\n 'd04-117': '197',\n 'd04-121': '197',\n 'd04-125': '198',\n 'd04-131': '198',\n 'd05-008': '199',\n 'd05-013': '200',\n 'd05-021': '199',\n 'd05-025': '199',\n 'd05-030': '199',\n 'd05-040': '201',\n 'd06-000': '202',\n 'd06-003': '203',\n 'd06-008': '173',\n 'd06-011': '204',\n 'd06-015': '174',\n 'd06-020': '173',\n 'd06-025': '205',\n 'd06-027': '206',\n 'd06-030': '174',\n 'd06-037': '207',\n 'd06-041': '208',\n 'd06-046': '173',\n 'd06-050': '174',\n 'd06-056': '206',\n 'd06-060': '208',\n 'd06-063': '173',\n 'd06-067': '205',\n 'd06-072': '207',\n 'd06-076': '203',\n 'd06-082': '174',\n 'd06-086': '208',\n 'd06-091': '202',\n 'd06-096': '206',\n 'd06-100': '207',\n 'd06-104': '205',\n 'd06-107': '204',\n 'd06-111': '203',\n 'd06-113': '208',\n 'd07-082': '209',\n 'd07-085': '209',\n 'd07-089': '209',\n 'd07-093': '209',\n 'd07-096': '209',\n 'd07-100': '209',\n 'd07-102': '209',\n 'e01-014': '210',\n 'e01-018': '210',\n 'e01-022': '211',\n 'e01-025': '211',\n 'e01-029': '212',\n 'e01-032': '212',\n 'e01-035': '212',\n 'e01-050': '213',\n 'e01-055': '181',\n 'e01-059': '213',\n 'e01-062': '213',\n 'e01-081': '214',\n 'e01-086': '214',\n 'e01-092': '215',\n 'e01-102': '215',\n 'e01-107': '216',\n 'e01-113': '216',\n 'e01-119': '217',\n 'e02-000': '218',\n 'e02-014': '219',\n 'e02-018': '220',\n 'e02-021': '221',\n 'e02-025': '222',\n 'e02-074': '223',\n 'e02-082': '224',\n 'e02-086': '225',\n 'e02-091': '226',\n 'e02-094': '227',\n 'e02-100': '228',\n 'e02-117': '229',\n 'e04-000': '158',\n 'e04-004': '230',\n 'e04-008': '230',\n 'e04-011': '231',\n 'e04-015': '231',\n 'e04-019': '232',\n 'e04-022': '232',\n 'e04-026': '233',\n 'e04-030': '233',\n 'e04-034': '234',\n 'e04-038': '234',\n 'e04-043': '235',\n 'e04-052': '235',\n 'e04-058': '236',\n 'e04-062': '237',\n 'e04-068': '237',\n 'e04-079': '238',\n 'e04-083': '239',\n 'e04-086': '240',\n 'e04-091': '241',\n 'e04-095': '241',\n 'e04-099': '241',\n 'e04-103': '242',\n 'e04-109': '242',\n 'e04-114': '242',\n 'e04-119': '243',\n 'e04-124': '243',\n 'e04-127': '243',\n 'e04-132': '241',\n 'e06-000': '206',\n 'e06-003': '204',\n 'e06-006': '202',\n 'e06-010': '203',\n 'e06-015': '204',\n 'e06-021': '206',\n 'e06-026': '205',\n 'e06-030': '204',\n 'e06-033': '207',\n 'e06-037': '202',\n 'e06-041': '202',\n 'e06-046': '203',\n 'e06-049': '205',\n 'e06-053': '208',\n 'e06-070': '207',\n 'e07-000': '085',\n 'e07-003': '244',\n 'e07-007': '245',\n 'e07-012': '246',\n 'e07-061': '246',\n 'e07-066': '246',\n 'e07-072': '246',\n 'e07-076': '247',\n 'e07-079': '247',\n 'e07-083': '247',\n 'e07-086': '247',\n 'e07-090': '247',\n 'e07-094': '248',\n 'e07-098': '248',\n 'e07-101': '248',\n 'e07-105': '248',\n 'e07-108': '248',\n 'e07-112': '249',\n 'f01-053': '250',\n 'f01-058': '250',\n 'f01-066': '251',\n 'f01-070': '252',\n 'f01-075': '253',\n 'f01-081': '254',\n 'f01-085': '254',\n 'f01-135': '255',\n 'f01-139': '217',\n 'f01-143': '256',\n 'f01-147': '256',\n 'f02-000': '257',\n 'f02-003': '258',\n 'f02-017': '259',\n 'f02-020': '260',\n 'f02-030': '261',\n 'f02-033': '259',\n 'f02-036': '262',\n 'f02-038': '263',\n 'f02-040': '264',\n 'f02-044': '265',\n 'f02-076': '266',\n 'f03-169': '267',\n 'f03-174': '268',\n 'f03-182': '269',\n 'f03-191': '270',\n 'f04-004': '272',\n 'f04-007': '273',\n 'f04-011': '272',\n 'f04-016': '272',\n 'f04-020': '274',\n 'f04-024': '275',\n 'f04-028': '275',\n 'f04-032': '276',\n 'f04-035': '276',\n 'f04-039': '277',\n 'f04-043': '277',\n 'f04-046': '278',\n 'f04-049': '278',\n 'f04-053': '279',\n 'f04-057': '279',\n 'f04-061': '280',\n 'f04-064': '280',\n 'f04-068': '281',\n 'f04-071': '281',\n 'f04-074': '282',\n 'f04-079': '282',\n 'f04-083': '283',\n 'f04-087': '283',\n 'f04-093': '193',\n 'f04-096': '193',\n 'f04-100': '193',\n 'f07-000': '285',\n 'f07-000b': '286',\n 'f07-002': '286',\n 'f07-006': '286',\n 'f07-009': '286',\n 'f07-013': '287',\n 'f07-016': '287',\n 'f07-019a': '288',\n 'f07-019b': '287',\n 'f07-021a': '288',\n 'f07-021b': '287',\n 'f07-024a': '288',\n 'f07-024b': '287',\n 'f07-028a': '288',\n 'f07-028b': '289',\n 'f07-032a': '288',\n 'f07-032b': '289',\n 'f07-036': '289',\n 'f07-039a': '285',\n 'f07-039b': '289',\n 'f07-042a': '285',\n 'f07-042b': '289',\n 'f07-046a': '285',\n 'f07-046b': '290',\n 'f07-069': '291',\n 'f07-073': '291',\n 'f07-076a': '292',\n 'f07-081a': '292',\n 'f07-096': '293',\n 'f07-081b': '291',\n 'f07-084a': '292',\n 'f07-084b': '291',\n 'f07-088a': '292',\n 'f07-088b': '293',\n 'f07-092a': '292',\n 'f07-092b': '293',\n 'f07-101a': '294',\n 'f07-101b': '293',\n 'g01-000': '217',\n 'g01-004': '295',\n 'g01-008': '295',\n 'g01-012': '296',\n 'g01-016': '296',\n 'g01-019': '296',\n 'g01-022': '297',\n 'g01-025': '297',\n 'g01-027': '297',\n 'g01-031': '298',\n 'g01-034': '298',\n 'g01-037': '298',\n 'g01-039': '299',\n 'g01-043': '299',\n 'g01-045': '299',\n 'g01-067': '300',\n 'g01-070': '300',\n 'g01-074': '300',\n 'g01-083': '301',\n 'g01-088': '302',\n 'g02-059': '303',\n 'g02-062': '304',\n 'g02-065': '305',\n 'g02-073': '307',\n 'g03-000': '308',\n 'g03-004': '309',\n 'g03-016': '310',\n 'g03-032': '312',\n 'g03-040': '313',\n 'g03-043': '314',\n 'g03-049': '315',\n 'g03-052': '316',\n 'g03-058': '317',\n 'g03-064': '318',\n 'g04-003': '239',\n 'g04-007': '273',\n 'g04-011': '273',\n 'g04-014': '273',\n 'g04-017': '274',\n 'g04-022': '319',\n 'g04-026': '274',\n 'g04-032': '274',\n 'g04-036': '320',\n 'g04-039': '320',\n 'g04-043': '321',\n 'g04-048': '321',\n 'g04-052': '322',\n 'g04-055': '323',\n 'g04-060': '324',\n 'g04-063': '324',\n 'g04-068': '325',\n 'g04-072': '325',\n 'g04-077': '326',\n 'g04-081': '327',\n 'g04-088': '328',\n 'g04-092': '328',\n 'g04-095': '273',\n 'g04-098': '329',\n 'g04-101': '329',\n 'g04-104': '330',\n 'g04-108': '330',\n 'g05-087': '331',\n 'g05-094': '119',\n 'g05-098': '118',\n 'g06-011a': '332',\n 'g06-011b': '333',\n 'g06-011c': '334',\n 'g06-011e': '336',\n 'g06-011f': '337',\n 'g06-011g': '338',\n 'g06-011h': '339',\n 'g06-011i': '340',\n 'g06-011j': '341',\n 'g06-011k': '342',\n 'g06-011l': '343',\n 'g06-011m': '344',\n 'g06-011n': '345',\n 'g06-011o': '346',\n 'g06-011p': '347',\n 'g06-011r': '348',\n 'g06-018a': '332',\n 'g06-018b': '333',\n 'g06-018c': '334',\n 'g06-018d': '335',\n 'g06-018e': '336',\n 'g06-018f': '337',\n 'g06-018g': '338',\n 'g06-018h': '339',\n 'g06-018i': '340',\n 'g06-018j': '341',\n 'g06-018k': '342',\n 'g06-018l': '343',\n 'g06-018m': '344',\n 'g06-018n': '345',\n 'g06-018o': '346',\n 'g06-018p': '347',\n 'g06-018r': '348',\n 'g06-026a': '332',\n 'g06-026b': '333',\n 'g06-026c': '334',\n 'g06-026d': '335',\n 'g06-026e': '336',\n 'g06-026f': '337',\n 'g06-026g': '338',\n 'g06-026h': '339',\n 'g06-026i': '340',\n 'g06-026j': '341',\n 'g06-026k': '342',\n 'g06-026l': '343',\n 'g06-026m': '344',\n 'g06-026n': '345',\n 'g06-026o': '346',\n 'g06-026p': '347',\n 'g06-026r': '348',\n 'g06-031a': '332',\n 'g06-031b': '333',\n 'g06-031c': '334',\n 'g06-031d': '335',\n 'g06-031e': '336',\n 'g06-031f': '337',\n 'g06-031g': '338',\n 'g06-031h': '339',\n 'g06-031i': '340',\n 'g06-031j': '341',\n 'g06-031k': '342',\n 'g06-031l': '343',\n 'g06-031m': '344',\n 'g06-031n': '345',\n 'g06-031o': '346',\n 'g06-031p': '347',\n 'g06-031r': '348',\n 'g06-037b': '333',\n 'g06-037c': '334',\n 'g06-037d': '335',\n 'g06-037e': '336',\n 'g06-037f': '337',\n 'g06-037g': '338',\n 'g06-037h': '339',\n 'g06-037i': '340',\n 'g06-037j': '341',\n 'g06-037k': '342',\n 'g06-037l': '343',\n 'g06-037m': '344',\n 'g06-037n': '345',\n 'g06-037o': '346',\n 'g06-037p': '347',\n 'g06-037r': '348',\n 'g06-042a': '332',\n 'g06-042b': '333',\n 'g06-042c': '334',\n 'g06-042d': '335',\n 'g06-042e': '336',\n 'g06-042f': '337',\n 'g06-042g': '338',\n 'g06-042h': '339',\n 'g06-042i': '340',\n 'g06-042j': '341',\n 'g06-042k': '342',\n 'g06-042l': '343',\n 'g06-042m': '344',\n 'g06-042n': '345',\n 'g06-042o': '346',\n 'g06-042p': '347',\n 'g06-042r': '348',\n 'g06-045a': '332',\n 'g06-045b': '333',\n 'g06-045c': '334',\n 'g06-045d': '335',\n 'g06-045e': '336',\n 'g06-045f': '337',\n 'g06-045g': '338',\n 'g06-045h': '339',\n 'g06-045i': '340',\n 'g06-045j': '341',\n 'g06-045k': '342',\n 'g06-045l': '343',\n 'g06-045m': '344',\n 'g06-045n': '345',\n 'g06-045o': '346',\n 'g06-045p': '347',\n 'g06-045r': '348',\n 'g06-047a': '332',\n 'g06-047b': '333',\n 'g06-047c': '334',\n 'g06-047d': '335',\n 'g06-047e': '336',\n 'g06-047f': '337',\n 'g06-047g': '338',\n 'g06-047h': '339',\n 'g06-047i': '340',\n 'g06-047j': '341',\n 'g06-047k': '342',\n 'g06-047l': '343',\n 'g06-047m': '344',\n 'g06-047n': '345',\n 'g06-047o': '346',\n 'g06-047p': '347',\n 'g06-047r': '348',\n 'g06-050a': '332',\n 'g06-050b': '333',\n 'g06-050c': '334',\n 'g06-050d': '335',\n 'g06-050e': '336',\n 'g06-050f': '337',\n 'g06-050g': '338',\n 'g06-050h': '339',\n 'g06-050i': '340',\n 'g06-050j': '341',\n 'g06-050k': '342',\n 'g06-050l': '343',\n 'g06-050m': '344',\n 'g06-050n': '345',\n 'g06-050o': '346',\n 'g06-050p': '347',\n 'g06-050r': '348',\n 'g06-089': '349',\n 'g06-093': '349',\n 'g06-096': '349',\n 'g06-101': '349',\n 'g06-105': '349',\n 'g06-109': '349',\n 'g06-115': '349',\n 'g07-000a': '294',\n 'g07-000b': '293',\n 'g07-003a': '294',\n 'g07-003b': '350',\n 'g07-007a': '294',\n 'g07-007b': '350',\n 'g07-010b': '350',\n 'g07-014': '351',\n 'g07-014b': '350',\n 'g07-018a': '351',\n 'g07-022a': '351',\n 'g07-022b': '352',\n 'g07-026a': '351',\n 'g07-026b': '352',\n 'g07-028a': '351',\n 'g07-028b': '352',\n 'g07-030': '352',\n 'g07-034': '352',\n 'g07-038': '353',\n 'g07-042': '353',\n 'g07-044': '353',\n 'g07-047': '353',\n 'g07-050': '353',\n 'g07-065': '354',\n 'g07-069a': '354',\n 'g07-071a': '354',\n 'g07-074a': '354',\n 'g07-077a': '354',\n 'g07-079a': '285',\n 'g07-084': '355',\n 'h01-000': '356',\n 'h01-004': '301',\n 'h01-007': '356',\n 'h01-010': '357',\n 'h01-014': '357',\n 'h01-018': '357',\n 'h01-024': '359',\n 'h01-027': '360',\n 'h01-030': '361',\n 'h02-004': '362',\n 'h02-008': '363',\n 'h02-012': '364',\n 'h02-017': '365',\n 'h02-019': '366',\n 'h02-022': '367',\n 'h02-024': '368',\n 'h02-028': '369',\n 'h02-035': '370',\n 'h02-037': '371',\n 'h02-040': '372',\n 'h02-043': '373',\n 'h02-049': '375',\n 'h04-000': '239',\n 'h04-007': '330',\n 'h04-021': '330',\n 'h04-025': '274',\n 'h04-028': '376',\n 'h04-035': '377',\n 'h04-049': '378',\n 'h04-052': '379',\n 'h04-055': '379',\n 'h04-057': '380',\n 'h04-061': '380',\n 'h04-071': '382',\n 'h04-074': '382',\n 'h04-078': '383',\n 'h04-082': '383',\n 'h05-012': '118',\n 'h06-000': '349',\n 'h06-003': '349',\n 'h06-079': '384',\n 'h06-082': '384',\n 'h06-085': '384',\n 'h06-089': '384',\n 'h06-092': '384',\n 'h06-096': '384',\n 'h07-000': '355',\n 'h07-003': '355',\n 'h07-007': '355',\n 'h07-011': '355',\n 'h07-013': '385',\n 'h07-017': '385',\n 'h07-020': '385',\n ...}"
     },
     "execution_count": 2,
     "metadata": {},
     "output_type": "execute_result"
    }
   ],
   "source": [
    "# Create a dictionary to store each form ID and its writer\n",
    "import os\n",
    "from itertools import islice\n",
    "\n",
    "form_writer = {}\n",
    "forms_file_path = \"IAM Dataset/forms.txt\"\n",
    "with open(forms_file_path) as f:\n",
    "    for line in islice(f, 16, None):\n",
    "        line_list = line.split(' ')\n",
    "        form_id = line_list[0]\n",
    "        writer = line_list[1]\n",
    "        form_writer[form_id] = writer\n",
    "form_writer"
   ],
   "metadata": {
    "collapsed": false,
    "pycharm": {
     "name": "#%%\n"
    }
   }
  },
  {
   "cell_type": "markdown",
   "source": [
    "## Select the 50 most productive writers"
   ],
   "metadata": {
    "collapsed": false,
    "pycharm": {
     "name": "#%% md\n"
    }
   }
  },
  {
   "cell_type": "code",
   "execution_count": 3,
   "outputs": [],
   "source": [
    "from collections import Counter\n",
    "\n",
    "top_writers = []\n",
    "num_writers = 50\n",
    "writers_counter = Counter(form_writer.values())\n",
    "for writer_id,_ in writers_counter.most_common(num_writers):\n",
    "    top_writers.append(writer_id)"
   ],
   "metadata": {
    "collapsed": false,
    "pycharm": {
     "name": "#%%\n"
    }
   }
  },
  {
   "cell_type": "code",
   "execution_count": 4,
   "outputs": [
    {
     "data": {
      "text/plain": "446"
     },
     "execution_count": 4,
     "metadata": {},
     "output_type": "execute_result"
    }
   ],
   "source": [
    "top_forms = []\n",
    "for form_id, author_id in form_writer.items():\n",
    "    if author_id in top_writers:\n",
    "        top_forms.append(form_id)\n",
    "len(top_forms)"
   ],
   "metadata": {
    "collapsed": false,
    "pycharm": {
     "name": "#%%\n"
    }
   }
  },
  {
   "cell_type": "markdown",
   "source": [
    "## Create temp directory to save writers' forms in"
   ],
   "metadata": {
    "collapsed": false,
    "pycharm": {
     "name": "#%% md\n"
    }
   }
  },
  {
   "cell_type": "code",
   "execution_count": 5,
   "outputs": [],
   "source": [
    "import os\n",
    "import glob\n",
    "import shutil\n",
    "temp_sentences_path = \"IAM Dataset/temp_sentences\"\n",
    "if not os.path.exists(temp_sentences_path):\n",
    "    os.makedirs(temp_sentences_path)\n",
    "    # Copy forms that belong to the top 50 most common writers to the temp directory\n",
    "    original_sentences_path = \"IAM Dataset/sentences/**/**/*.png\"\n",
    "    for file_path in glob.glob(original_sentences_path):\n",
    "        image_name = file_path.split('\\\\')[-1]\n",
    "        file_name, _ = os.path.splitext(image_name)\n",
    "        form_id = '-'.join(file_name.split('-')[0:2])\n",
    "        if form_id in top_forms:\n",
    "            shutil.copy2(file_path, temp_sentences_path + \"/\" + image_name)"
   ],
   "metadata": {
    "collapsed": false,
    "pycharm": {
     "name": "#%%\n"
    }
   }
  },
  {
   "cell_type": "code",
   "execution_count": 6,
   "outputs": [
    {
     "name": "stderr",
     "output_type": "stream",
     "text": [
      "C:\\Users\\Diego\\AppData\\Local\\Temp\\ipykernel_17572\\1316896891.py:3: DeprecationWarning: `np.str` is a deprecated alias for the builtin `str`. To silence this warning, use `str` by itself. Doing this will not modify any behavior and is safe. If you specifically wanted the numpy scalar type, use `np.str_` here.\n",
      "Deprecated in NumPy 1.20; for more details and guidance: https://numpy.org/devdocs/release/1.20.0-notes.html#deprecations\n",
      "  img_files = np.zeros((0), dtype=np.str)\n",
      "C:\\Users\\Diego\\AppData\\Local\\Temp\\ipykernel_17572\\1316896891.py:4: DeprecationWarning: `np.str` is a deprecated alias for the builtin `str`. To silence this warning, use `str` by itself. Doing this will not modify any behavior and is safe. If you specifically wanted the numpy scalar type, use `np.str_` here.\n",
      "Deprecated in NumPy 1.20; for more details and guidance: https://numpy.org/devdocs/release/1.20.0-notes.html#deprecations\n",
      "  img_targets = np.zeros((0), dtype=np.str)\n"
     ]
    }
   ],
   "source": [
    "import numpy as np\n",
    "\n",
    "img_files = np.zeros((0), dtype=np.str)\n",
    "img_targets = np.zeros((0), dtype=np.str)\n",
    "path_to_files = os.path.join(temp_sentences_path, '*')\n",
    "for file_path in glob.glob(path_to_files):\n",
    "    img_files = np.append(img_files, file_path)\n",
    "    file_name, _ = os.path.splitext(file_path.split('\\\\')[-1]  )\n",
    "    form_id = '-'.join(file_name.split('-')[0:2])\n",
    "    for key in form_writer:\n",
    "        if key == form_id:\n",
    "            img_targets = np.append(img_targets, form_writer[form_id])"
   ],
   "metadata": {
    "collapsed": false,
    "pycharm": {
     "name": "#%%\n"
    }
   }
  },
  {
   "cell_type": "code",
   "execution_count": 7,
   "outputs": [
    {
     "name": "stdout",
     "output_type": "stream",
     "text": [
      "['IAM Dataset/temp_sentences\\\\a01-026u-00.png'\n",
      " 'IAM Dataset/temp_sentences\\\\a01-026u-01.png'\n",
      " 'IAM Dataset/temp_sentences\\\\a01-026u-02.png'\n",
      " 'IAM Dataset/temp_sentences\\\\a01-026u-03.png'\n",
      " 'IAM Dataset/temp_sentences\\\\a01-026u-04.png']\n",
      "['000' '000' '000' '000' '000']\n"
     ]
    }
   ],
   "source": [
    "print(img_files[:5])\n",
    "print(img_targets[:5])"
   ],
   "metadata": {
    "collapsed": false,
    "pycharm": {
     "name": "#%%\n"
    }
   }
  },
  {
   "cell_type": "code",
   "execution_count": 13,
   "outputs": [
    {
     "data": {
      "text/plain": "True"
     },
     "execution_count": 13,
     "metadata": {},
     "output_type": "execute_result"
    },
    {
     "data": {
      "text/plain": "<Figure size 720x720 with 1 Axes>",
      "image/png": "[encoded data removed]"
     },
     "metadata": {
      "needs_background": "light"
     },
     "output_type": "display_data"
    },
    {
     "data": {
      "text/plain": "<Figure size 720x720 with 1 Axes>",
      "image/png": "[encoded data removed]"
     },
     "metadata": {
      "needs_background": "light"
     },
     "output_type": "display_data"
    }
   ],
   "source": [
    "import matplotlib.pyplot as plt\n",
    "import matplotlib.image as mpimg\n",
    "%matplotlib inline\n",
    "\n",
    "for file_name in img_files[:2]:\n",
    "    img = mpimg.imread(file_name)\n",
    "    plt.figure(figsize = (10,10))\n",
    "    plt.imshow(img, cmap ='gray')\n",
    "img = cv2.imread(img_files[3])\n"
   ],
   "metadata": {
    "collapsed": false,
    "pycharm": {
     "name": "#%%\n"
    }
   }
  },
  {
   "cell_type": "code",
   "execution_count": 14,
   "outputs": [
    {
     "name": "stdout",
     "output_type": "stream",
     "text": [
      "Writer ID        :  ['000' '000']\n",
      "Encoded writer ID:  [0 0]\n"
     ]
    }
   ],
   "source": [
    "from sklearn.preprocessing import LabelEncoder\n",
    "\n",
    "encoder = LabelEncoder()\n",
    "encoder.fit(img_targets)\n",
    "encoded_img_targets = encoder.transform(img_targets)\n",
    "\n",
    "print(\"Writer ID        : \", img_targets[:2])\n",
    "print(\"Encoded writer ID: \", encoded_img_targets[:2])"
   ],
   "metadata": {
    "collapsed": false,
    "pycharm": {
     "name": "#%%\n"
    }
   }
  },
  {
   "cell_type": "markdown",
   "source": [
    "## Split Train Test Validation"
   ],
   "metadata": {
    "collapsed": false,
    "pycharm": {
     "name": "#%% md\n"
    }
   }
  },
  {
   "cell_type": "code",
   "execution_count": 15,
   "outputs": [
    {
     "name": "stdout",
     "output_type": "stream",
     "text": [
      "(2492,) (624,) (779,)\n",
      "(2492,) (624,) (779,)\n"
     ]
    }
   ],
   "source": [
    "from sklearn.model_selection import train_test_split\n",
    "\n",
    "# Split dataset into training and test sets\n",
    "X_train, X_test, y_train, y_test = train_test_split(img_files, encoded_img_targets, test_size=0.2, shuffle = True)\n",
    "\n",
    "# Further split training set into training and validation sets\n",
    "X_train, X_val, y_train, y_val = train_test_split(X_train, y_train, test_size=0.2, shuffle = True)\n",
    "\n",
    "print(X_train.shape, X_val.shape, X_test.shape)\n",
    "print(y_train.shape, y_val.shape, y_test.shape)"
   ],
   "metadata": {
    "collapsed": false,
    "pycharm": {
     "name": "#%%\n"
    }
   }
  },
  {
   "cell_type": "code",
   "execution_count": 16,
   "outputs": [],
   "source": [
    "CROP_SIZE = 113\n",
    "NUM_LABELS = 50\n",
    "BATCH_SIZE = 16"
   ],
   "metadata": {
    "collapsed": false,
    "pycharm": {
     "name": "#%%\n"
    }
   }
  },
  {
   "cell_type": "markdown",
   "source": [
    "## Augmentation"
   ],
   "metadata": {
    "collapsed": false,
    "pycharm": {
     "name": "#%% md\n"
    }
   }
  },
  {
   "cell_type": "code",
   "execution_count": 17,
   "outputs": [],
   "source": [
    "from sklearn.utils import shuffle\n",
    "from PIL import Image\n",
    "import random\n",
    "\n",
    "def get_augmented_sample(sample, label, sample_ratio):\n",
    "    # Get current image details\n",
    "    img = Image.open(sample)\n",
    "    img_width = img.size[0]\n",
    "    img_height = img.size[1]\n",
    "\n",
    "    # Compute resize dimensions such that aspect ratio is maintained\n",
    "    height_fac = CROP_SIZE / img_height\n",
    "    size = (int(img_width * height_fac), CROP_SIZE)\n",
    "\n",
    "    # Resize image\n",
    "    new_img = img.resize((size), Image.ANTIALIAS)\n",
    "    new_img_width = new_img.size[0]\n",
    "    new_img_height = new_img.size[1]\n",
    "\n",
    "    # Generate a random number of crops of size 113x113 from the resized image\n",
    "    x_coord = list(range(0, new_img_width - CROP_SIZE))\n",
    "    num_crops = int(len(x_coord) * sample_ratio)\n",
    "    random_x_coord = random.sample(x_coord, num_crops)\n",
    "\n",
    "    # Create augmented images (cropped forms) and map them to a label (writer)\n",
    "    images = []\n",
    "    labels = []\n",
    "    for x in random_x_coord:\n",
    "        img_crop = new_img.crop((x, 0, x + CROP_SIZE, CROP_SIZE))\n",
    "        # Transform image to an array of numbers\n",
    "        images.append(np.asarray(img_crop))\n",
    "        labels.append(label)\n",
    "\n",
    "    return (images, labels)"
   ],
   "metadata": {
    "collapsed": false,
    "pycharm": {
     "name": "#%%\n"
    }
   }
  },
  {
   "cell_type": "code",
   "execution_count": 36,
   "outputs": [
    {
     "name": "stdout",
     "output_type": "stream",
     "text": [
      "Label:  22\n"
     ]
    },
    {
     "data": {
      "text/plain": "True"
     },
     "execution_count": 36,
     "metadata": {},
     "output_type": "execute_result"
    },
    {
     "data": {
      "text/plain": "<Figure size 720x720 with 1 Axes>",
      "image/png": "[encoded data removed]"
     },
     "metadata": {
      "needs_background": "light"
     },
     "output_type": "display_data"
    }
   ],
   "source": [
    "sample, label = X_train[0], y_train[0]\n",
    "img = cv2.imread(sample)\n",
    "plt.figure(figsize = (10,10))\n",
    "plt.imshow(img, cmap ='gray')\n",
    "print(\"Label: \", label)"
   ],
   "metadata": {
    "collapsed": false,
    "pycharm": {
     "name": "#%%\n"
    }
   }
  },
  {
   "cell_type": "code",
   "execution_count": 32,
   "outputs": [
    {
     "name": "stderr",
     "output_type": "stream",
     "text": [
      "C:\\Users\\Diego\\AppData\\Local\\Temp\\ipykernel_17572\\4186496213.py:16: DeprecationWarning: ANTIALIAS is deprecated and will be removed in Pillow 10 (2023-07-01). Use Resampling.LANCZOS instead.\n",
      "  new_img = img.resize((size), Image.ANTIALIAS)\n"
     ]
    }
   ],
   "source": [
    "images, labels = get_augmented_sample(sample, label, 0.1)"
   ],
   "metadata": {
    "collapsed": false,
    "pycharm": {
     "name": "#%%\n"
    }
   }
  },
  {
   "cell_type": "code",
   "execution_count": 33,
   "outputs": [
    {
     "name": "stdout",
     "output_type": "stream",
     "text": [
      "[22, 22, 22, 22, 22, 22, 22, 22, 22, 22, 22, 22, 22, 22, 22, 22, 22, 22, 22, 22, 22, 22, 22, 22, 22, 22, 22, 22, 22, 22, 22, 22, 22, 22, 22, 22, 22, 22, 22, 22, 22, 22, 22, 22, 22, 22, 22, 22, 22, 22, 22, 22, 22, 22, 22, 22, 22, 22, 22, 22, 22, 22, 22, 22, 22, 22, 22, 22, 22, 22, 22, 22, 22, 22, 22, 22, 22, 22, 22, 22, 22, 22, 22, 22, 22, 22, 22, 22, 22, 22, 22, 22, 22, 22, 22, 22, 22, 22, 22, 22, 22, 22, 22, 22, 22, 22, 22, 22, 22, 22, 22, 22, 22, 22, 22, 22, 22, 22, 22, 22, 22, 22, 22, 22, 22, 22, 22, 22, 22, 22, 22, 22, 22, 22, 22, 22, 22, 22, 22, 22, 22, 22, 22, 22, 22, 22, 22, 22, 22, 22, 22, 22, 22, 22, 22, 22, 22, 22, 22, 22, 22, 22, 22, 22, 22, 22, 22, 22, 22, 22, 22, 22, 22, 22, 22, 22, 22, 22, 22, 22, 22, 22, 22, 22, 22, 22, 22, 22, 22, 22, 22, 22, 22, 22, 22, 22, 22, 22, 22, 22, 22, 22, 22, 22, 22, 22, 22, 22, 22, 22, 22, 22, 22, 22, 22, 22, 22, 22, 22, 22, 22, 22, 22, 22, 22, 22, 22, 22, 22, 22, 22, 22, 22, 22, 22, 22, 22, 22, 22, 22, 22, 22, 22, 22, 22, 22, 22, 22, 22, 22, 22, 22, 22, 22, 22, 22, 22, 22, 22, 22, 22, 22, 22]\n",
      "Num of labels:  263\n"
     ]
    }
   ],
   "source": [
    "print(labels)\n",
    "print(\"Num of labels: \", len(labels))"
   ],
   "metadata": {
    "collapsed": false,
    "pycharm": {
     "name": "#%%\n"
    }
   }
  },
  {
   "cell_type": "code",
   "execution_count": 34,
   "outputs": [
    {
     "name": "stdout",
     "output_type": "stream",
     "text": [
      "263\n"
     ]
    },
    {
     "data": {
      "text/plain": "True"
     },
     "execution_count": 34,
     "metadata": {},
     "output_type": "execute_result"
    },
    {
     "data": {
      "text/plain": "<Figure size 432x288 with 1 Axes>",
      "image/png": "[encoded data removed]"
     },
     "metadata": {
      "needs_background": "light"
     },
     "output_type": "display_data"
    }
   ],
   "source": [
    "print(len(images))\n",
    "plt.imshow(images[0], cmap ='gray')"
   ],
   "metadata": {
    "collapsed": false,
    "pycharm": {
     "name": "#%%\n"
    }
   }
  },
  {
   "cell_type": "code",
   "execution_count": 17,
   "outputs": [
    {
     "data": {
      "text/plain": "<matplotlib.image.AxesImage at 0x204cb338100>"
     },
     "execution_count": 17,
     "metadata": {},
     "output_type": "execute_result"
    },
    {
     "data": {
      "text/plain": "<Figure size 432x288 with 1 Axes>",
      "image/png": "[encoded data removed]"
     },
     "metadata": {
      "needs_background": "light"
     },
     "output_type": "display_data"
    }
   ],
   "source": [
    "plt.imshow(images[1], cmap ='gray')"
   ],
   "metadata": {
    "collapsed": false,
    "pycharm": {
     "name": "#%%\n"
    }
   }
  },
  {
   "cell_type": "code",
   "execution_count": 18,
   "outputs": [],
   "source": [
    "import operator\n",
    "from functools import reduce\n",
    "from keras.utils import to_categorical\n",
    "\n",
    "def generate_data(samples, labels, batch_size, sample_ratio):\n",
    "    while 1:\n",
    "        for offset in range(0, len(samples), batch_size):\n",
    "            batch_samples = samples[offset:(offset + batch_size)]\n",
    "            batch_labels = labels[offset:(offset + batch_size)]\n",
    "\n",
    "            # Augment each sample in batch\n",
    "            augmented_batch_samples = []\n",
    "            augmented_batch_labels = []\n",
    "            for i in range(len(batch_samples)):\n",
    "                sample = batch_samples[i]\n",
    "                label = batch_labels[i]\n",
    "                augmented_samples, augmented_labels = get_augmented_sample(sample, label, sample_ratio)\n",
    "                augmented_batch_samples.append(augmented_samples)\n",
    "                augmented_batch_labels.append(augmented_labels)\n",
    "\n",
    "            # Flatten out samples and labels\n",
    "            augmented_batch_samples = reduce(operator.add, augmented_batch_samples)\n",
    "            augmented_batch_labels = reduce(operator.add, augmented_batch_labels)\n",
    "\n",
    "            # Reshape input format\n",
    "            X_train = np.array(augmented_batch_samples)\n",
    "            X_train = X_train.reshape(X_train.shape[0], CROP_SIZE, CROP_SIZE, 1)\n",
    "\n",
    "            # Transform input to float and normalize\n",
    "            X_train = X_train.astype('float32')\n",
    "            X_train /= 255\n",
    "\n",
    "            # Encode y\n",
    "            y_train = np.array(augmented_batch_labels)\n",
    "            y_train = to_categorical(y_train, NUM_LABELS)\n",
    "\n",
    "            yield X_train, y_train"
   ],
   "metadata": {
    "collapsed": false,
    "pycharm": {
     "name": "#%%\n"
    }
   }
  },
  {
   "cell_type": "code",
   "execution_count": 19,
   "outputs": [],
   "source": [
    "train_generator = generate_data(X_train, y_train, BATCH_SIZE, 0.3)\n",
    "validation_generator = generate_data(X_val, y_val, BATCH_SIZE, 0.3)\n",
    "test_generator = generate_data(X_test, y_test, BATCH_SIZE, 0.1)"
   ],
   "metadata": {
    "collapsed": false,
    "pycharm": {
     "name": "#%%\n"
    }
   }
  },
  {
   "cell_type": "code",
   "execution_count": 23,
   "outputs": [],
   "source": [
    "def resize_image(img):\n",
    "    size = round(CROP_SIZE/2)\n",
    "    return tf.image.resize(img, [size, size])"
   ],
   "metadata": {
    "collapsed": false,
    "pycharm": {
     "name": "#%%\n"
    }
   }
  },
  {
   "cell_type": "markdown",
   "source": [
    "## CNN"
   ],
   "metadata": {
    "collapsed": false,
    "pycharm": {
     "name": "#%% md\n"
    }
   }
  },
  {
   "cell_type": "code",
   "execution_count": 24,
   "outputs": [
    {
     "name": "stdout",
     "output_type": "stream",
     "text": [
      "Model: \"sequential_1\"\n",
      "_________________________________________________________________\n",
      " Layer (type)                Output Shape              Param #   \n",
      "=================================================================\n",
      " zero_padding2d_1 (ZeroPaddi  (None, 115, 115, 1)      0         \n",
      " ng2D)                                                           \n",
      "                                                                 \n",
      " lambda_1 (Lambda)           (None, 56, 56, 1)         0         \n",
      "                                                                 \n",
      " conv1 (Conv2D)              (None, 28, 28, 32)        832       \n",
      "                                                                 \n",
      " activation (Activation)     (None, 28, 28, 32)        0         \n",
      "                                                                 \n",
      " pool1 (MaxPooling2D)        (None, 14, 14, 32)        0         \n",
      "                                                                 \n",
      " conv2 (Conv2D)              (None, 14, 14, 64)        18496     \n",
      "                                                                 \n",
      " activation_1 (Activation)   (None, 14, 14, 64)        0         \n",
      "                                                                 \n",
      " pool2 (MaxPooling2D)        (None, 7, 7, 64)          0         \n",
      "                                                                 \n",
      " conv3 (Conv2D)              (None, 7, 7, 128)         73856     \n",
      "                                                                 \n",
      " activation_2 (Activation)   (None, 7, 7, 128)         0         \n",
      "                                                                 \n",
      " pool3 (MaxPooling2D)        (None, 3, 3, 128)         0         \n",
      "                                                                 \n",
      " flatten (Flatten)           (None, 1152)              0         \n",
      "                                                                 \n",
      " dropout (Dropout)           (None, 1152)              0         \n",
      "                                                                 \n",
      " dense1 (Dense)              (None, 512)               590336    \n",
      "                                                                 \n",
      " activation_3 (Activation)   (None, 512)               0         \n",
      "                                                                 \n",
      " dropout_1 (Dropout)         (None, 512)               0         \n",
      "                                                                 \n",
      " dense2 (Dense)              (None, 256)               131328    \n",
      "                                                                 \n",
      " activation_4 (Activation)   (None, 256)               0         \n",
      "                                                                 \n",
      " dropout_2 (Dropout)         (None, 256)               0         \n",
      "                                                                 \n",
      " output (Dense)              (None, 50)                12850     \n",
      "                                                                 \n",
      " activation_5 (Activation)   (None, 50)                0         \n",
      "                                                                 \n",
      "=================================================================\n",
      "Total params: 827,698\n",
      "Trainable params: 827,698\n",
      "Non-trainable params: 0\n",
      "_________________________________________________________________\n",
      "None\n"
     ]
    }
   ],
   "source": [
    "from keras.models import Sequential\n",
    "from keras.layers import Dense, Dropout, Flatten, Lambda, Activation\n",
    "from keras.layers.convolutional import Convolution2D, ZeroPadding2D, MaxPooling2D\n",
    "from keras.optimizers import Adam\n",
    "from keras import metrics\n",
    "\n",
    "model = Sequential()\n",
    "\n",
    "# Define network input shape\n",
    "model.add(ZeroPadding2D((1, 1), input_shape=(CROP_SIZE, CROP_SIZE, 1)))\n",
    "# Resize images to allow for easy computation\n",
    "model.add(Lambda(resize_image))\n",
    "\n",
    "# CNN model - Building the model suggested in paper\n",
    "model.add(Convolution2D(filters= 32, kernel_size =(5,5), strides= (2, 2), padding='same', name='conv1'))\n",
    "model.add(Activation('relu'))\n",
    "model.add(MaxPooling2D(pool_size=(2, 2), strides=(2, 2), name='pool1'))\n",
    "\n",
    "model.add(Convolution2D(filters= 64, kernel_size =(3, 3), strides= (1, 1), padding='same', name='conv2'))\n",
    "model.add(Activation('relu'))\n",
    "model.add(MaxPooling2D(pool_size=(2, 2), strides=(2, 2), name='pool2'))\n",
    "\n",
    "model.add(Convolution2D(filters= 128, kernel_size =(3, 3), strides= (1, 1), padding='same', name='conv3'))\n",
    "model.add(Activation('relu'))\n",
    "model.add(MaxPooling2D(pool_size=(2, 2), strides=(2, 2), name='pool3'))\n",
    "\n",
    "\n",
    "model.add(Flatten())\n",
    "model.add(Dropout(0.5))\n",
    "\n",
    "model.add(Dense(512, name='dense1'))\n",
    "model.add(Activation('relu'))\n",
    "model.add(Dropout(0.5))\n",
    "\n",
    "model.add(Dense(256, name='dense2'))\n",
    "model.add(Activation('relu'))\n",
    "model.add(Dropout(0.5))\n",
    "\n",
    "model.add(Dense(NUM_LABELS, name='output'))\n",
    "model.add(Activation('softmax'))\n",
    "\n",
    "model.compile(loss='categorical_crossentropy', optimizer=Adam(), metrics=['acc'])\n",
    "\n",
    "print(model.summary())"
   ],
   "metadata": {
    "collapsed": false,
    "pycharm": {
     "name": "#%%\n"
    }
   }
  },
  {
   "cell_type": "markdown",
   "source": [
    "## Training and Saving checkpoint"
   ],
   "metadata": {
    "collapsed": false,
    "pycharm": {
     "name": "#%% md\n"
    }
   }
  },
  {
   "cell_type": "code",
   "execution_count": 32,
   "outputs": [
    {
     "name": "stderr",
     "output_type": "stream",
     "text": [
      "C:\\Users\\Diego\\AppData\\Local\\Temp\\ipykernel_8532\\3810275414.py:16: UserWarning: `Model.fit_generator` is deprecated and will be removed in a future version. Please use `Model.fit`, which supports generators.\n",
      "  history_object = model.fit_generator(\n",
      "C:\\Users\\Diego\\AppData\\Local\\Temp\\ipykernel_8532\\4186496213.py:16: DeprecationWarning: ANTIALIAS is deprecated and will be removed in Pillow 10 (2023-07-01). Use Resampling.LANCZOS instead.\n",
      "  new_img = img.resize((size), Image.ANTIALIAS)\n"
     ]
    },
    {
     "name": "stdout",
     "output_type": "stream",
     "text": [
      "Epoch 1/20\n",
      "  9/156 [>.............................] - ETA: 13:33 - loss: 1.0214 - acc: 0.6820"
     ]
    },
    {
     "ename": "KeyboardInterrupt",
     "evalue": "",
     "output_type": "error",
     "traceback": [
      "\u001B[1;31m---------------------------------------------------------------------------\u001B[0m",
      "\u001B[1;31mKeyboardInterrupt\u001B[0m                         Traceback (most recent call last)",
      "Input \u001B[1;32mIn [32]\u001B[0m, in \u001B[0;36m<cell line: 16>\u001B[1;34m()\u001B[0m\n\u001B[0;32m      9\u001B[0m create_checkpoint \u001B[38;5;241m=\u001B[39m ModelCheckpoint(\n\u001B[0;32m     10\u001B[0m     filepath \u001B[38;5;241m=\u001B[39m \u001B[38;5;124m\"\u001B[39m\u001B[38;5;124m./model_checkpoints/check_\u001B[39m\u001B[38;5;132;01m{epoch:02d}\u001B[39;00m\u001B[38;5;124m_\u001B[39m\u001B[38;5;132;01m{val_loss:.4f}\u001B[39;00m\u001B[38;5;124m.hdf5\u001B[39m\u001B[38;5;124m\"\u001B[39m,\n\u001B[0;32m     11\u001B[0m     verbose \u001B[38;5;241m=\u001B[39m \u001B[38;5;241m1\u001B[39m,\n\u001B[0;32m     12\u001B[0m     save_best_only \u001B[38;5;241m=\u001B[39m \u001B[38;5;28;01mFalse\u001B[39;00m\n\u001B[0;32m     13\u001B[0m )\n\u001B[0;32m     15\u001B[0m \u001B[38;5;66;03m# Fit model using generators\u001B[39;00m\n\u001B[1;32m---> 16\u001B[0m history_object \u001B[38;5;241m=\u001B[39m \u001B[43mmodel\u001B[49m\u001B[38;5;241;43m.\u001B[39;49m\u001B[43mfit_generator\u001B[49m\u001B[43m(\u001B[49m\n\u001B[0;32m     17\u001B[0m \u001B[43m    \u001B[49m\u001B[43mtrain_generator\u001B[49m\u001B[43m,\u001B[49m\n\u001B[0;32m     18\u001B[0m \u001B[43m    \u001B[49m\u001B[43msteps_per_epoch\u001B[49m\u001B[43m \u001B[49m\u001B[38;5;241;43m=\u001B[39;49m\u001B[43m \u001B[49m\u001B[38;5;28;43mround\u001B[39;49m\u001B[43m(\u001B[49m\u001B[38;5;28;43mlen\u001B[39;49m\u001B[43m(\u001B[49m\u001B[43mX_train\u001B[49m\u001B[43m)\u001B[49m\u001B[43m \u001B[49m\u001B[38;5;241;43m/\u001B[39;49m\u001B[43m \u001B[49m\u001B[43mBATCH_SIZE\u001B[49m\u001B[43m)\u001B[49m\u001B[43m,\u001B[49m\n\u001B[0;32m     19\u001B[0m \u001B[43m    \u001B[49m\u001B[43mvalidation_data\u001B[49m\u001B[43m \u001B[49m\u001B[38;5;241;43m=\u001B[39;49m\u001B[43m \u001B[49m\u001B[43mvalidation_generator\u001B[49m\u001B[43m,\u001B[49m\n\u001B[0;32m     20\u001B[0m \u001B[43m    \u001B[49m\u001B[43mvalidation_steps\u001B[49m\u001B[43m \u001B[49m\u001B[38;5;241;43m=\u001B[39;49m\u001B[43m \u001B[49m\u001B[38;5;28;43mround\u001B[39;49m\u001B[43m(\u001B[49m\u001B[38;5;28;43mlen\u001B[39;49m\u001B[43m(\u001B[49m\u001B[43mX_val\u001B[49m\u001B[43m)\u001B[49m\u001B[43m \u001B[49m\u001B[38;5;241;43m/\u001B[39;49m\u001B[43m \u001B[49m\u001B[43mBATCH_SIZE\u001B[49m\u001B[43m)\u001B[49m\u001B[43m,\u001B[49m\n\u001B[0;32m     21\u001B[0m \u001B[43m    \u001B[49m\u001B[43mepochs\u001B[49m\u001B[43m \u001B[49m\u001B[38;5;241;43m=\u001B[39;49m\u001B[43m \u001B[49m\u001B[38;5;241;43m20\u001B[39;49m\u001B[43m,\u001B[49m\n\u001B[0;32m     22\u001B[0m \u001B[43m    \u001B[49m\u001B[43mverbose\u001B[49m\u001B[43m \u001B[49m\u001B[38;5;241;43m=\u001B[39;49m\u001B[43m \u001B[49m\u001B[38;5;241;43m1\u001B[39;49m\u001B[43m,\u001B[49m\n\u001B[0;32m     23\u001B[0m \u001B[43m    \u001B[49m\u001B[43mcallbacks\u001B[49m\u001B[43m \u001B[49m\u001B[38;5;241;43m=\u001B[39;49m\u001B[43m \u001B[49m\u001B[43m[\u001B[49m\u001B[43mcreate_checkpoint\u001B[49m\u001B[43m]\u001B[49m\n\u001B[0;32m     24\u001B[0m \u001B[43m)\u001B[49m\n",
      "File \u001B[1;32m~\\PycharmProjects\\pythonProject\\venv\\lib\\site-packages\\keras\\engine\\training.py:2260\u001B[0m, in \u001B[0;36mModel.fit_generator\u001B[1;34m(self, generator, steps_per_epoch, epochs, verbose, callbacks, validation_data, validation_steps, validation_freq, class_weight, max_queue_size, workers, use_multiprocessing, shuffle, initial_epoch)\u001B[0m\n\u001B[0;32m   2249\u001B[0m \u001B[38;5;124;03m\"\"\"Fits the model on data yielded batch-by-batch by a Python generator.\u001B[39;00m\n\u001B[0;32m   2250\u001B[0m \n\u001B[0;32m   2251\u001B[0m \u001B[38;5;124;03mDEPRECATED:\u001B[39;00m\n\u001B[0;32m   2252\u001B[0m \u001B[38;5;124;03m  `Model.fit` now supports generators, so there is no longer any need to use\u001B[39;00m\n\u001B[0;32m   2253\u001B[0m \u001B[38;5;124;03m  this endpoint.\u001B[39;00m\n\u001B[0;32m   2254\u001B[0m \u001B[38;5;124;03m\"\"\"\u001B[39;00m\n\u001B[0;32m   2255\u001B[0m warnings\u001B[38;5;241m.\u001B[39mwarn(\n\u001B[0;32m   2256\u001B[0m     \u001B[38;5;124m'\u001B[39m\u001B[38;5;124m`Model.fit_generator` is deprecated and \u001B[39m\u001B[38;5;124m'\u001B[39m\n\u001B[0;32m   2257\u001B[0m     \u001B[38;5;124m'\u001B[39m\u001B[38;5;124mwill be removed in a future version. \u001B[39m\u001B[38;5;124m'\u001B[39m\n\u001B[0;32m   2258\u001B[0m     \u001B[38;5;124m'\u001B[39m\u001B[38;5;124mPlease use `Model.fit`, which supports generators.\u001B[39m\u001B[38;5;124m'\u001B[39m,\n\u001B[0;32m   2259\u001B[0m     stacklevel\u001B[38;5;241m=\u001B[39m\u001B[38;5;241m2\u001B[39m)\n\u001B[1;32m-> 2260\u001B[0m \u001B[38;5;28;01mreturn\u001B[39;00m \u001B[38;5;28;43mself\u001B[39;49m\u001B[38;5;241;43m.\u001B[39;49m\u001B[43mfit\u001B[49m\u001B[43m(\u001B[49m\n\u001B[0;32m   2261\u001B[0m \u001B[43m    \u001B[49m\u001B[43mgenerator\u001B[49m\u001B[43m,\u001B[49m\n\u001B[0;32m   2262\u001B[0m \u001B[43m    \u001B[49m\u001B[43msteps_per_epoch\u001B[49m\u001B[38;5;241;43m=\u001B[39;49m\u001B[43msteps_per_epoch\u001B[49m\u001B[43m,\u001B[49m\n\u001B[0;32m   2263\u001B[0m \u001B[43m    \u001B[49m\u001B[43mepochs\u001B[49m\u001B[38;5;241;43m=\u001B[39;49m\u001B[43mepochs\u001B[49m\u001B[43m,\u001B[49m\n\u001B[0;32m   2264\u001B[0m \u001B[43m    \u001B[49m\u001B[43mverbose\u001B[49m\u001B[38;5;241;43m=\u001B[39;49m\u001B[43mverbose\u001B[49m\u001B[43m,\u001B[49m\n\u001B[0;32m   2265\u001B[0m \u001B[43m    \u001B[49m\u001B[43mcallbacks\u001B[49m\u001B[38;5;241;43m=\u001B[39;49m\u001B[43mcallbacks\u001B[49m\u001B[43m,\u001B[49m\n\u001B[0;32m   2266\u001B[0m \u001B[43m    \u001B[49m\u001B[43mvalidation_data\u001B[49m\u001B[38;5;241;43m=\u001B[39;49m\u001B[43mvalidation_data\u001B[49m\u001B[43m,\u001B[49m\n\u001B[0;32m   2267\u001B[0m \u001B[43m    \u001B[49m\u001B[43mvalidation_steps\u001B[49m\u001B[38;5;241;43m=\u001B[39;49m\u001B[43mvalidation_steps\u001B[49m\u001B[43m,\u001B[49m\n\u001B[0;32m   2268\u001B[0m \u001B[43m    \u001B[49m\u001B[43mvalidation_freq\u001B[49m\u001B[38;5;241;43m=\u001B[39;49m\u001B[43mvalidation_freq\u001B[49m\u001B[43m,\u001B[49m\n\u001B[0;32m   2269\u001B[0m \u001B[43m    \u001B[49m\u001B[43mclass_weight\u001B[49m\u001B[38;5;241;43m=\u001B[39;49m\u001B[43mclass_weight\u001B[49m\u001B[43m,\u001B[49m\n\u001B[0;32m   2270\u001B[0m \u001B[43m    \u001B[49m\u001B[43mmax_queue_size\u001B[49m\u001B[38;5;241;43m=\u001B[39;49m\u001B[43mmax_queue_size\u001B[49m\u001B[43m,\u001B[49m\n\u001B[0;32m   2271\u001B[0m \u001B[43m    \u001B[49m\u001B[43mworkers\u001B[49m\u001B[38;5;241;43m=\u001B[39;49m\u001B[43mworkers\u001B[49m\u001B[43m,\u001B[49m\n\u001B[0;32m   2272\u001B[0m \u001B[43m    \u001B[49m\u001B[43muse_multiprocessing\u001B[49m\u001B[38;5;241;43m=\u001B[39;49m\u001B[43muse_multiprocessing\u001B[49m\u001B[43m,\u001B[49m\n\u001B[0;32m   2273\u001B[0m \u001B[43m    \u001B[49m\u001B[43mshuffle\u001B[49m\u001B[38;5;241;43m=\u001B[39;49m\u001B[43mshuffle\u001B[49m\u001B[43m,\u001B[49m\n\u001B[0;32m   2274\u001B[0m \u001B[43m    \u001B[49m\u001B[43minitial_epoch\u001B[49m\u001B[38;5;241;43m=\u001B[39;49m\u001B[43minitial_epoch\u001B[49m\u001B[43m)\u001B[49m\n",
      "File \u001B[1;32m~\\PycharmProjects\\pythonProject\\venv\\lib\\site-packages\\keras\\utils\\traceback_utils.py:64\u001B[0m, in \u001B[0;36mfilter_traceback.<locals>.error_handler\u001B[1;34m(*args, **kwargs)\u001B[0m\n\u001B[0;32m     62\u001B[0m filtered_tb \u001B[38;5;241m=\u001B[39m \u001B[38;5;28;01mNone\u001B[39;00m\n\u001B[0;32m     63\u001B[0m \u001B[38;5;28;01mtry\u001B[39;00m:\n\u001B[1;32m---> 64\u001B[0m   \u001B[38;5;28;01mreturn\u001B[39;00m fn(\u001B[38;5;241m*\u001B[39margs, \u001B[38;5;241m*\u001B[39m\u001B[38;5;241m*\u001B[39mkwargs)\n\u001B[0;32m     65\u001B[0m \u001B[38;5;28;01mexcept\u001B[39;00m \u001B[38;5;167;01mException\u001B[39;00m \u001B[38;5;28;01mas\u001B[39;00m e:  \u001B[38;5;66;03m# pylint: disable=broad-except\u001B[39;00m\n\u001B[0;32m     66\u001B[0m   filtered_tb \u001B[38;5;241m=\u001B[39m _process_traceback_frames(e\u001B[38;5;241m.\u001B[39m__traceback__)\n",
      "File \u001B[1;32m~\\PycharmProjects\\pythonProject\\venv\\lib\\site-packages\\keras\\engine\\training.py:1409\u001B[0m, in \u001B[0;36mModel.fit\u001B[1;34m(self, x, y, batch_size, epochs, verbose, callbacks, validation_split, validation_data, shuffle, class_weight, sample_weight, initial_epoch, steps_per_epoch, validation_steps, validation_batch_size, validation_freq, max_queue_size, workers, use_multiprocessing)\u001B[0m\n\u001B[0;32m   1402\u001B[0m \u001B[38;5;28;01mwith\u001B[39;00m tf\u001B[38;5;241m.\u001B[39mprofiler\u001B[38;5;241m.\u001B[39mexperimental\u001B[38;5;241m.\u001B[39mTrace(\n\u001B[0;32m   1403\u001B[0m     \u001B[38;5;124m'\u001B[39m\u001B[38;5;124mtrain\u001B[39m\u001B[38;5;124m'\u001B[39m,\n\u001B[0;32m   1404\u001B[0m     epoch_num\u001B[38;5;241m=\u001B[39mepoch,\n\u001B[0;32m   1405\u001B[0m     step_num\u001B[38;5;241m=\u001B[39mstep,\n\u001B[0;32m   1406\u001B[0m     batch_size\u001B[38;5;241m=\u001B[39mbatch_size,\n\u001B[0;32m   1407\u001B[0m     _r\u001B[38;5;241m=\u001B[39m\u001B[38;5;241m1\u001B[39m):\n\u001B[0;32m   1408\u001B[0m   callbacks\u001B[38;5;241m.\u001B[39mon_train_batch_begin(step)\n\u001B[1;32m-> 1409\u001B[0m   tmp_logs \u001B[38;5;241m=\u001B[39m \u001B[38;5;28;43mself\u001B[39;49m\u001B[38;5;241;43m.\u001B[39;49m\u001B[43mtrain_function\u001B[49m\u001B[43m(\u001B[49m\u001B[43miterator\u001B[49m\u001B[43m)\u001B[49m\n\u001B[0;32m   1410\u001B[0m   \u001B[38;5;28;01mif\u001B[39;00m data_handler\u001B[38;5;241m.\u001B[39mshould_sync:\n\u001B[0;32m   1411\u001B[0m     context\u001B[38;5;241m.\u001B[39masync_wait()\n",
      "File \u001B[1;32m~\\PycharmProjects\\pythonProject\\venv\\lib\\site-packages\\tensorflow\\python\\util\\traceback_utils.py:150\u001B[0m, in \u001B[0;36mfilter_traceback.<locals>.error_handler\u001B[1;34m(*args, **kwargs)\u001B[0m\n\u001B[0;32m    148\u001B[0m filtered_tb \u001B[38;5;241m=\u001B[39m \u001B[38;5;28;01mNone\u001B[39;00m\n\u001B[0;32m    149\u001B[0m \u001B[38;5;28;01mtry\u001B[39;00m:\n\u001B[1;32m--> 150\u001B[0m   \u001B[38;5;28;01mreturn\u001B[39;00m fn(\u001B[38;5;241m*\u001B[39margs, \u001B[38;5;241m*\u001B[39m\u001B[38;5;241m*\u001B[39mkwargs)\n\u001B[0;32m    151\u001B[0m \u001B[38;5;28;01mexcept\u001B[39;00m \u001B[38;5;167;01mException\u001B[39;00m \u001B[38;5;28;01mas\u001B[39;00m e:\n\u001B[0;32m    152\u001B[0m   filtered_tb \u001B[38;5;241m=\u001B[39m _process_traceback_frames(e\u001B[38;5;241m.\u001B[39m__traceback__)\n",
      "File \u001B[1;32m~\\PycharmProjects\\pythonProject\\venv\\lib\\site-packages\\tensorflow\\python\\eager\\def_function.py:915\u001B[0m, in \u001B[0;36mFunction.__call__\u001B[1;34m(self, *args, **kwds)\u001B[0m\n\u001B[0;32m    912\u001B[0m compiler \u001B[38;5;241m=\u001B[39m \u001B[38;5;124m\"\u001B[39m\u001B[38;5;124mxla\u001B[39m\u001B[38;5;124m\"\u001B[39m \u001B[38;5;28;01mif\u001B[39;00m \u001B[38;5;28mself\u001B[39m\u001B[38;5;241m.\u001B[39m_jit_compile \u001B[38;5;28;01melse\u001B[39;00m \u001B[38;5;124m\"\u001B[39m\u001B[38;5;124mnonXla\u001B[39m\u001B[38;5;124m\"\u001B[39m\n\u001B[0;32m    914\u001B[0m \u001B[38;5;28;01mwith\u001B[39;00m OptionalXlaContext(\u001B[38;5;28mself\u001B[39m\u001B[38;5;241m.\u001B[39m_jit_compile):\n\u001B[1;32m--> 915\u001B[0m   result \u001B[38;5;241m=\u001B[39m \u001B[38;5;28mself\u001B[39m\u001B[38;5;241m.\u001B[39m_call(\u001B[38;5;241m*\u001B[39margs, \u001B[38;5;241m*\u001B[39m\u001B[38;5;241m*\u001B[39mkwds)\n\u001B[0;32m    917\u001B[0m new_tracing_count \u001B[38;5;241m=\u001B[39m \u001B[38;5;28mself\u001B[39m\u001B[38;5;241m.\u001B[39mexperimental_get_tracing_count()\n\u001B[0;32m    918\u001B[0m without_tracing \u001B[38;5;241m=\u001B[39m (tracing_count \u001B[38;5;241m==\u001B[39m new_tracing_count)\n",
      "File \u001B[1;32m~\\PycharmProjects\\pythonProject\\venv\\lib\\site-packages\\tensorflow\\python\\eager\\def_function.py:947\u001B[0m, in \u001B[0;36mFunction._call\u001B[1;34m(self, *args, **kwds)\u001B[0m\n\u001B[0;32m    944\u001B[0m   \u001B[38;5;28mself\u001B[39m\u001B[38;5;241m.\u001B[39m_lock\u001B[38;5;241m.\u001B[39mrelease()\n\u001B[0;32m    945\u001B[0m   \u001B[38;5;66;03m# In this case we have created variables on the first call, so we run the\u001B[39;00m\n\u001B[0;32m    946\u001B[0m   \u001B[38;5;66;03m# defunned version which is guaranteed to never create variables.\u001B[39;00m\n\u001B[1;32m--> 947\u001B[0m   \u001B[38;5;28;01mreturn\u001B[39;00m \u001B[38;5;28mself\u001B[39m\u001B[38;5;241m.\u001B[39m_stateless_fn(\u001B[38;5;241m*\u001B[39margs, \u001B[38;5;241m*\u001B[39m\u001B[38;5;241m*\u001B[39mkwds)  \u001B[38;5;66;03m# pylint: disable=not-callable\u001B[39;00m\n\u001B[0;32m    948\u001B[0m \u001B[38;5;28;01melif\u001B[39;00m \u001B[38;5;28mself\u001B[39m\u001B[38;5;241m.\u001B[39m_stateful_fn \u001B[38;5;129;01mis\u001B[39;00m \u001B[38;5;129;01mnot\u001B[39;00m \u001B[38;5;28;01mNone\u001B[39;00m:\n\u001B[0;32m    949\u001B[0m   \u001B[38;5;66;03m# Release the lock early so that multiple threads can perform the call\u001B[39;00m\n\u001B[0;32m    950\u001B[0m   \u001B[38;5;66;03m# in parallel.\u001B[39;00m\n\u001B[0;32m    951\u001B[0m   \u001B[38;5;28mself\u001B[39m\u001B[38;5;241m.\u001B[39m_lock\u001B[38;5;241m.\u001B[39mrelease()\n",
      "File \u001B[1;32m~\\PycharmProjects\\pythonProject\\venv\\lib\\site-packages\\tensorflow\\python\\eager\\function.py:2453\u001B[0m, in \u001B[0;36mFunction.__call__\u001B[1;34m(self, *args, **kwargs)\u001B[0m\n\u001B[0;32m   2450\u001B[0m \u001B[38;5;28;01mwith\u001B[39;00m \u001B[38;5;28mself\u001B[39m\u001B[38;5;241m.\u001B[39m_lock:\n\u001B[0;32m   2451\u001B[0m   (graph_function,\n\u001B[0;32m   2452\u001B[0m    filtered_flat_args) \u001B[38;5;241m=\u001B[39m \u001B[38;5;28mself\u001B[39m\u001B[38;5;241m.\u001B[39m_maybe_define_function(args, kwargs)\n\u001B[1;32m-> 2453\u001B[0m \u001B[38;5;28;01mreturn\u001B[39;00m \u001B[43mgraph_function\u001B[49m\u001B[38;5;241;43m.\u001B[39;49m\u001B[43m_call_flat\u001B[49m\u001B[43m(\u001B[49m\n\u001B[0;32m   2454\u001B[0m \u001B[43m    \u001B[49m\u001B[43mfiltered_flat_args\u001B[49m\u001B[43m,\u001B[49m\u001B[43m \u001B[49m\u001B[43mcaptured_inputs\u001B[49m\u001B[38;5;241;43m=\u001B[39;49m\u001B[43mgraph_function\u001B[49m\u001B[38;5;241;43m.\u001B[39;49m\u001B[43mcaptured_inputs\u001B[49m\u001B[43m)\u001B[49m\n",
      "File \u001B[1;32m~\\PycharmProjects\\pythonProject\\venv\\lib\\site-packages\\tensorflow\\python\\eager\\function.py:1860\u001B[0m, in \u001B[0;36mConcreteFunction._call_flat\u001B[1;34m(self, args, captured_inputs, cancellation_manager)\u001B[0m\n\u001B[0;32m   1856\u001B[0m possible_gradient_type \u001B[38;5;241m=\u001B[39m gradients_util\u001B[38;5;241m.\u001B[39mPossibleTapeGradientTypes(args)\n\u001B[0;32m   1857\u001B[0m \u001B[38;5;28;01mif\u001B[39;00m (possible_gradient_type \u001B[38;5;241m==\u001B[39m gradients_util\u001B[38;5;241m.\u001B[39mPOSSIBLE_GRADIENT_TYPES_NONE\n\u001B[0;32m   1858\u001B[0m     \u001B[38;5;129;01mand\u001B[39;00m executing_eagerly):\n\u001B[0;32m   1859\u001B[0m   \u001B[38;5;66;03m# No tape is watching; skip to running the function.\u001B[39;00m\n\u001B[1;32m-> 1860\u001B[0m   \u001B[38;5;28;01mreturn\u001B[39;00m \u001B[38;5;28mself\u001B[39m\u001B[38;5;241m.\u001B[39m_build_call_outputs(\u001B[38;5;28;43mself\u001B[39;49m\u001B[38;5;241;43m.\u001B[39;49m\u001B[43m_inference_function\u001B[49m\u001B[38;5;241;43m.\u001B[39;49m\u001B[43mcall\u001B[49m\u001B[43m(\u001B[49m\n\u001B[0;32m   1861\u001B[0m \u001B[43m      \u001B[49m\u001B[43mctx\u001B[49m\u001B[43m,\u001B[49m\u001B[43m \u001B[49m\u001B[43margs\u001B[49m\u001B[43m,\u001B[49m\u001B[43m \u001B[49m\u001B[43mcancellation_manager\u001B[49m\u001B[38;5;241;43m=\u001B[39;49m\u001B[43mcancellation_manager\u001B[49m\u001B[43m)\u001B[49m)\n\u001B[0;32m   1862\u001B[0m forward_backward \u001B[38;5;241m=\u001B[39m \u001B[38;5;28mself\u001B[39m\u001B[38;5;241m.\u001B[39m_select_forward_and_backward_functions(\n\u001B[0;32m   1863\u001B[0m     args,\n\u001B[0;32m   1864\u001B[0m     possible_gradient_type,\n\u001B[0;32m   1865\u001B[0m     executing_eagerly)\n\u001B[0;32m   1866\u001B[0m forward_function, args_with_tangents \u001B[38;5;241m=\u001B[39m forward_backward\u001B[38;5;241m.\u001B[39mforward()\n",
      "File \u001B[1;32m~\\PycharmProjects\\pythonProject\\venv\\lib\\site-packages\\tensorflow\\python\\eager\\function.py:497\u001B[0m, in \u001B[0;36m_EagerDefinedFunction.call\u001B[1;34m(self, ctx, args, cancellation_manager)\u001B[0m\n\u001B[0;32m    495\u001B[0m \u001B[38;5;28;01mwith\u001B[39;00m _InterpolateFunctionError(\u001B[38;5;28mself\u001B[39m):\n\u001B[0;32m    496\u001B[0m   \u001B[38;5;28;01mif\u001B[39;00m cancellation_manager \u001B[38;5;129;01mis\u001B[39;00m \u001B[38;5;28;01mNone\u001B[39;00m:\n\u001B[1;32m--> 497\u001B[0m     outputs \u001B[38;5;241m=\u001B[39m \u001B[43mexecute\u001B[49m\u001B[38;5;241;43m.\u001B[39;49m\u001B[43mexecute\u001B[49m\u001B[43m(\u001B[49m\n\u001B[0;32m    498\u001B[0m \u001B[43m        \u001B[49m\u001B[38;5;28;43mstr\u001B[39;49m\u001B[43m(\u001B[49m\u001B[38;5;28;43mself\u001B[39;49m\u001B[38;5;241;43m.\u001B[39;49m\u001B[43msignature\u001B[49m\u001B[38;5;241;43m.\u001B[39;49m\u001B[43mname\u001B[49m\u001B[43m)\u001B[49m\u001B[43m,\u001B[49m\n\u001B[0;32m    499\u001B[0m \u001B[43m        \u001B[49m\u001B[43mnum_outputs\u001B[49m\u001B[38;5;241;43m=\u001B[39;49m\u001B[38;5;28;43mself\u001B[39;49m\u001B[38;5;241;43m.\u001B[39;49m\u001B[43m_num_outputs\u001B[49m\u001B[43m,\u001B[49m\n\u001B[0;32m    500\u001B[0m \u001B[43m        \u001B[49m\u001B[43minputs\u001B[49m\u001B[38;5;241;43m=\u001B[39;49m\u001B[43margs\u001B[49m\u001B[43m,\u001B[49m\n\u001B[0;32m    501\u001B[0m \u001B[43m        \u001B[49m\u001B[43mattrs\u001B[49m\u001B[38;5;241;43m=\u001B[39;49m\u001B[43mattrs\u001B[49m\u001B[43m,\u001B[49m\n\u001B[0;32m    502\u001B[0m \u001B[43m        \u001B[49m\u001B[43mctx\u001B[49m\u001B[38;5;241;43m=\u001B[39;49m\u001B[43mctx\u001B[49m\u001B[43m)\u001B[49m\n\u001B[0;32m    503\u001B[0m   \u001B[38;5;28;01melse\u001B[39;00m:\n\u001B[0;32m    504\u001B[0m     outputs \u001B[38;5;241m=\u001B[39m execute\u001B[38;5;241m.\u001B[39mexecute_with_cancellation(\n\u001B[0;32m    505\u001B[0m         \u001B[38;5;28mstr\u001B[39m(\u001B[38;5;28mself\u001B[39m\u001B[38;5;241m.\u001B[39msignature\u001B[38;5;241m.\u001B[39mname),\n\u001B[0;32m    506\u001B[0m         num_outputs\u001B[38;5;241m=\u001B[39m\u001B[38;5;28mself\u001B[39m\u001B[38;5;241m.\u001B[39m_num_outputs,\n\u001B[1;32m   (...)\u001B[0m\n\u001B[0;32m    509\u001B[0m         ctx\u001B[38;5;241m=\u001B[39mctx,\n\u001B[0;32m    510\u001B[0m         cancellation_manager\u001B[38;5;241m=\u001B[39mcancellation_manager)\n",
      "File \u001B[1;32m~\\PycharmProjects\\pythonProject\\venv\\lib\\site-packages\\tensorflow\\python\\eager\\execute.py:54\u001B[0m, in \u001B[0;36mquick_execute\u001B[1;34m(op_name, num_outputs, inputs, attrs, ctx, name)\u001B[0m\n\u001B[0;32m     52\u001B[0m \u001B[38;5;28;01mtry\u001B[39;00m:\n\u001B[0;32m     53\u001B[0m   ctx\u001B[38;5;241m.\u001B[39mensure_initialized()\n\u001B[1;32m---> 54\u001B[0m   tensors \u001B[38;5;241m=\u001B[39m \u001B[43mpywrap_tfe\u001B[49m\u001B[38;5;241;43m.\u001B[39;49m\u001B[43mTFE_Py_Execute\u001B[49m\u001B[43m(\u001B[49m\u001B[43mctx\u001B[49m\u001B[38;5;241;43m.\u001B[39;49m\u001B[43m_handle\u001B[49m\u001B[43m,\u001B[49m\u001B[43m \u001B[49m\u001B[43mdevice_name\u001B[49m\u001B[43m,\u001B[49m\u001B[43m \u001B[49m\u001B[43mop_name\u001B[49m\u001B[43m,\u001B[49m\n\u001B[0;32m     55\u001B[0m \u001B[43m                                      \u001B[49m\u001B[43minputs\u001B[49m\u001B[43m,\u001B[49m\u001B[43m \u001B[49m\u001B[43mattrs\u001B[49m\u001B[43m,\u001B[49m\u001B[43m \u001B[49m\u001B[43mnum_outputs\u001B[49m\u001B[43m)\u001B[49m\n\u001B[0;32m     56\u001B[0m \u001B[38;5;28;01mexcept\u001B[39;00m core\u001B[38;5;241m.\u001B[39m_NotOkStatusException \u001B[38;5;28;01mas\u001B[39;00m e:\n\u001B[0;32m     57\u001B[0m   \u001B[38;5;28;01mif\u001B[39;00m name \u001B[38;5;129;01mis\u001B[39;00m \u001B[38;5;129;01mnot\u001B[39;00m \u001B[38;5;28;01mNone\u001B[39;00m:\n",
      "\u001B[1;31mKeyboardInterrupt\u001B[0m: "
     ]
    }
   ],
   "source": [
    "from keras.callbacks import ModelCheckpoint\n",
    "\n",
    "# Create directory to save checkpoints at\n",
    "model_checkpoints_path = \"./model_checkpoints\"\n",
    "if not os.path.exists(model_checkpoints_path):\n",
    "    os.makedirs(model_checkpoints_path)\n",
    "\n",
    "# Save model after every epoch using checkpoints\n",
    "create_checkpoint = ModelCheckpoint(\n",
    "    filepath = \"./model_checkpoints/check_{epoch:02d}_{val_loss:.4f}.hdf5\",\n",
    "    verbose = 1,\n",
    "    save_best_only = False\n",
    ")\n",
    "\n",
    "# Fit model using generators\n",
    "history_object = model.fit_generator(\n",
    "    train_generator,\n",
    "    steps_per_epoch = round(len(X_train) / BATCH_SIZE),\n",
    "    validation_data = validation_generator,\n",
    "    validation_steps = round(len(X_val) / BATCH_SIZE),\n",
    "    epochs = 200,\n",
    "    verbose = 1,\n",
    "    callbacks = [create_checkpoint]\n",
    ")"
   ],
   "metadata": {
    "collapsed": false,
    "pycharm": {
     "name": "#%%\n"
    }
   }
  },
  {
   "cell_type": "code",
   "execution_count": 29,
   "outputs": [
    {
     "name": "stderr",
     "output_type": "stream",
     "text": [
      "C:\\Users\\Diego\\AppData\\Local\\Temp\\ipykernel_8532\\4033021946.py:4: UserWarning: `Model.evaluate_generator` is deprecated and will be removed in a future version. Please use `Model.evaluate`, which supports generators.\n",
      "  scores = model.evaluate_generator(test_generator, steps=round(len(X_test)/BATCH_SIZE))\n",
      "C:\\Users\\Diego\\AppData\\Local\\Temp\\ipykernel_8532\\4186496213.py:16: DeprecationWarning: ANTIALIAS is deprecated and will be removed in Pillow 10 (2023-07-01). Use Resampling.LANCZOS instead.\n",
      "  new_img = img.resize((size), Image.ANTIALIAS)\n"
     ]
    },
    {
     "name": "stdout",
     "output_type": "stream",
     "text": [
      "Accuracy:  0.7758903503417969\n"
     ]
    }
   ],
   "source": [
    "model_weights_path = \"model_checkpoints\\check_20_0.7512.hdf5\"\n",
    "if model_weights_path:\n",
    "    model.load_weights(model_weights_path)\n",
    "    scores = model.evaluate_generator(test_generator, steps=round(len(X_test)/BATCH_SIZE))\n",
    "    print(\"Accuracy: \", scores[1])\n",
    "else:\n",
    "    print(\"Set model weights file to load in the 'model_weights_path' variable\")"
   ],
   "metadata": {
    "collapsed": false,
    "pycharm": {
     "name": "#%%\n"
    }
   }
  }
 ],
 "metadata": {
  "kernelspec": {
   "display_name": "Python 3",
   "language": "python",
   "name": "python3"
  },
  "language_info": {
   "codemirror_mode": {
    "name": "ipython",
    "version": 2
   },
   "file_extension": ".py",
   "mimetype": "text/x-python",
   "name": "python",
   "nbconvert_exporter": "python",
   "pygments_lexer": "ipython2",
   "version": "2.7.6"
  }
 },
 "nbformat": 4,
 "nbformat_minor": 0
}